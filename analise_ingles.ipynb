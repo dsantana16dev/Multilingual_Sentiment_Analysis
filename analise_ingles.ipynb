{
 "cells": [
  {
   "cell_type": "code",
   "execution_count": 1,
   "id": "170459a8",
   "metadata": {},
   "outputs": [
    {
     "name": "stderr",
     "output_type": "stream",
     "text": [
      "c:\\Users\\DanielSantana\\.conda\\envs\\nlp_env2\\Lib\\site-packages\\tqdm\\auto.py:21: TqdmWarning: IProgress not found. Please update jupyter and ipywidgets. See https://ipywidgets.readthedocs.io/en/stable/user_install.html\n",
      "  from .autonotebook import tqdm as notebook_tqdm\n"
     ]
    }
   ],
   "source": [
    "from transformers import pipeline\n",
    "import pandas as pd"
   ]
  },
  {
   "cell_type": "code",
   "execution_count": 2,
   "id": "96736e15",
   "metadata": {},
   "outputs": [
    {
     "name": "stderr",
     "output_type": "stream",
     "text": [
      "c:\\Users\\DanielSantana\\.conda\\envs\\nlp_env2\\Lib\\site-packages\\huggingface_hub\\file_download.py:143: UserWarning: `huggingface_hub` cache-system uses symlinks by default to efficiently store duplicated files but your machine does not support them in C:\\Users\\DanielSantana\\.cache\\huggingface\\hub\\models--distilbert-base-uncased-finetuned-sst-2-english. Caching files will still work but in a degraded version that might require more space on your disk. This warning can be disabled by setting the `HF_HUB_DISABLE_SYMLINKS_WARNING` environment variable. For more details, see https://huggingface.co/docs/huggingface_hub/how-to-cache#limitations.\n",
      "To support symlinks on Windows, you either need to activate Developer Mode or to run Python as an administrator. In order to activate developer mode, see this article: https://docs.microsoft.com/en-us/windows/apps/get-started/enable-your-device-for-development\n",
      "  warnings.warn(message)\n",
      "Xet Storage is enabled for this repo, but the 'hf_xet' package is not installed. Falling back to regular HTTP download. For better performance, install the package with: `pip install huggingface_hub[hf_xet]` or `pip install hf_xet`\n",
      "Device set to use cpu\n"
     ]
    }
   ],
   "source": [
    "# === 1. Load the sentiment analysis model (English only, very accurate) ===\n",
    "analyzer = pipeline(\"sentiment-analysis\", model=\"distilbert-base-uncased-finetuned-sst-2-english\")"
   ]
  },
  {
   "cell_type": "code",
   "execution_count": 3,
   "metadata": {},
   "outputs": [],
   "source": [
    "# === 2. Initial text samples ===\n",
    "texts = [\n",
    "    \"I absolutely loved the service, it was fantastic!\",\n",
    "    \"The experience was terrible and I'm very disappointed.\",\n",
    "    \"It was okay, nothing special.\"\n",
    "]"
   ]
  },
  {
   "cell_type": "code",
   "execution_count": 4,
   "id": "fbd0e7d1",
   "metadata": {},
   "outputs": [
    {
     "name": "stdout",
     "output_type": "stream",
     "text": [
      "\n",
      "✅ Sentence added successfully!\n"
     ]
    }
   ],
   "source": [
    "# === 3. Allow user to add a new sentence ===\n",
    "new = input(\"Would you like to add a new sentence for analysis? (y/n): \").strip().lower()\n",
    "\n",
    "if new == \"y\":\n",
    "    sentence = input(\"Enter your sentence: \").strip()\n",
    "    if sentence:\n",
    "        texts.append(sentence)\n",
    "        print(\"\\n✅ Sentence added successfully!\")\n",
    "    else:\n",
    "        print(\"\\n⚠️ No text entered. Continuing with default sentences...\")\n",
    "else:\n",
    "    print(\"\\n🟢 Continuing with default sentences...\")"
   ]
  },
  {
   "cell_type": "code",
   "execution_count": 5,
   "id": "4ccca5f4",
   "metadata": {},
   "outputs": [],
   "source": [
    "# === 4. Perform the sentiment analysis ===\n",
    "results = analyzer(texts)"
   ]
  },
  {
   "cell_type": "code",
   "execution_count": 6,
   "id": "de424941",
   "metadata": {},
   "outputs": [],
   "source": [
    "# === 5. Add emotional trend (optimistic/pessimistic) ===\n",
    "def emotional_trend(label):\n",
    "    if label == \"POSITIVE\":\n",
    "        return \"Optimistic\"\n",
    "    elif label == \"NEGATIVE\":\n",
    "        return \"Pessimistic\"\n",
    "    else:\n",
    "        return \"Neutral\""
   ]
  },
  {
   "cell_type": "code",
   "execution_count": 7,
   "id": "9c101728",
   "metadata": {},
   "outputs": [],
   "source": [
    "# === 6. Create DataFrame with results ===\n",
    "df_results = pd.DataFrame([\n",
    "    {\n",
    "        \"Analyzed Text\": text,\n",
    "        \"Classification\": r[\"label\"],\n",
    "        \"Confidence\": round(r[\"score\"], 2),\n",
    "        \"Trend\": emotional_trend(r[\"label\"])\n",
    "    }\n",
    "    for text, r in zip(texts, results)\n",
    "])"
   ]
  },
  {
   "cell_type": "code",
   "execution_count": 8,
   "id": "739049c8",
   "metadata": {},
   "outputs": [
    {
     "name": "stdout",
     "output_type": "stream",
     "text": [
      "\n",
      "📊 Sentiment Analysis Results:\n",
      "\n",
      "                                         Analyzed Text Classification  Confidence       Trend\n",
      "     I absolutely loved the service, it was fantastic!       POSITIVE        1.00  Optimistic\n",
      "The experience was terrible and I'm very disappointed.       NEGATIVE        1.00 Pessimistic\n",
      "                         It was okay, nothing special.       NEGATIVE        0.98 Pessimistic\n",
      "                                            I love you       POSITIVE        1.00  Optimistic\n"
     ]
    }
   ],
   "source": [
    "# === 7. Display the results ===\n",
    "print(\"\\n📊 Sentiment Analysis Results:\\n\")\n",
    "print(df_results.to_string(index=False))"
   ]
  }
 ],
 "metadata": {
  "kernelspec": {
   "display_name": "nlp_env2",
   "language": "python",
   "name": "python3"
  },
  "language_info": {
   "codemirror_mode": {
    "name": "ipython",
    "version": 3
   },
   "file_extension": ".py",
   "mimetype": "text/x-python",
   "name": "python",
   "nbconvert_exporter": "python",
   "pygments_lexer": "ipython3",
   "version": "3.11.13"
  }
 },
 "nbformat": 4,
 "nbformat_minor": 5
}
