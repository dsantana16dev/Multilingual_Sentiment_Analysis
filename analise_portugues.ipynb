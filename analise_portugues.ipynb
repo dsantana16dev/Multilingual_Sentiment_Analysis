{
 "cells": [
  {
   "cell_type": "code",
   "execution_count": 1,
   "id": "94a97bc3",
   "metadata": {},
   "outputs": [
    {
     "name": "stderr",
     "output_type": "stream",
     "text": [
      "c:\\Users\\DanielSantana\\.conda\\envs\\nlp_env2\\Lib\\site-packages\\tqdm\\auto.py:21: TqdmWarning: IProgress not found. Please update jupyter and ipywidgets. See https://ipywidgets.readthedocs.io/en/stable/user_install.html\n",
      "  from .autonotebook import tqdm as notebook_tqdm\n"
     ]
    }
   ],
   "source": [
    "from transformers import pipeline\n",
    "import pandas as pd"
   ]
  },
  {
   "cell_type": "code",
   "execution_count": 2,
   "id": "57e4d8d3",
   "metadata": {},
   "outputs": [
    {
     "name": "stderr",
     "output_type": "stream",
     "text": [
      "Device set to use cpu\n"
     ]
    }
   ],
   "source": [
    "# === 1. Cria o pipeline de análise de sentimentos ===\n",
    "# Modelo multilíngue (funciona bem com português)\n",
    "analyzer = pipeline(\"sentiment-analysis\", model=\"nlptown/bert-base-multilingual-uncased-sentiment\")"
   ]
  },
  {
   "cell_type": "code",
   "execution_count": 3,
   "id": "518d1be5",
   "metadata": {},
   "outputs": [],
   "source": [
    "# === 2. Lista inicial de textos ===\n",
    "textos = [\n",
    "    \"Adorei o atendimento, foi excelente!\",\n",
    "    \"O serviço demorou e fiquei insatisfeito.\",\n",
    "    \"Foi razoável, nada demais.\"\n",
    "]"
   ]
  },
  {
   "cell_type": "code",
   "execution_count": 4,
   "id": "67d65d9a",
   "metadata": {},
   "outputs": [
    {
     "name": "stdout",
     "output_type": "stream",
     "text": [
      "\n",
      "✅ Frase adicionada com sucesso!\n"
     ]
    }
   ],
   "source": [
    "# === 3. Permite ao usuário adicionar frases ===\n",
    "nova = input(\"Deseja adicionar uma nova frase para análise? (s/n): \").strip().lower()\n",
    "\n",
    "if nova == \"s\":\n",
    "    frase = input(\"Digite sua frase: \").strip()\n",
    "    if frase:\n",
    "        textos.append(frase)\n",
    "        print(\"\\n✅ Frase adicionada com sucesso!\")\n",
    "    else:\n",
    "        print(\"\\n⚠️ Nenhuma frase digitada. Seguindo com os textos padrão...\")\n",
    "else:\n",
    "    print(\"\\n🟢 Seguindo com os textos padrão...\")"
   ]
  },
  {
   "cell_type": "code",
   "execution_count": 5,
   "id": "397c6a3f",
   "metadata": {},
   "outputs": [],
   "source": [
    "# === 4. Executa análise real com IA ===\n",
    "resultados = analyzer(textos)\n"
   ]
  },
  {
   "cell_type": "code",
   "execution_count": 6,
   "id": "888141bb",
   "metadata": {},
   "outputs": [],
   "source": [
    "# === 5. Adiciona classificação otimista/pessimista ===\n",
    "def tendencia_emocional(label):\n",
    "    if label in [\"4 stars\", \"5 stars\"]:\n",
    "        return \"Otimista\"\n",
    "    elif label in [\"1 star\", \"2 stars\"]:\n",
    "        return \"Pessimista\"\n",
    "    else:\n",
    "        return \"Neutra\""
   ]
  },
  {
   "cell_type": "code",
   "execution_count": 7,
   "id": "c1c0bc69",
   "metadata": {},
   "outputs": [],
   "source": [
    "# === 6. Cria DataFrame com resultados ===\n",
    "df_resultados = pd.DataFrame([\n",
    "    {\n",
    "        \"Texto Analisado\": texto,\n",
    "        \"Classificação\": r[\"label\"],\n",
    "        \"Confiança\": round(r[\"score\"], 2),\n",
    "        \"Tendência\": tendencia_emocional(r[\"label\"])\n",
    "    }\n",
    "    for texto, r in zip(textos, resultados)\n",
    "])"
   ]
  },
  {
   "cell_type": "code",
   "execution_count": 8,
   "id": "4941b09a",
   "metadata": {},
   "outputs": [
    {
     "name": "stdout",
     "output_type": "stream",
     "text": [
      "\n",
      "📊 Resultados da Análise com IA:\n",
      "\n",
      "                         Texto Analisado Classificação  Confiança  Tendência\n",
      "    Adorei o atendimento, foi excelente!       5 stars       0.75   Otimista\n",
      "O serviço demorou e fiquei insatisfeito.        1 star       0.62 Pessimista\n",
      "              Foi razoável, nada demais.        1 star       0.49 Pessimista\n",
      "                  Que lindo essa receita       5 stars       0.31   Otimista\n"
     ]
    }
   ],
   "source": [
    "# === 7. Exibe a tabela final ===\n",
    "print(\"\\n📊 Resultados da Análise com IA:\\n\")\n",
    "print(df_resultados.to_string(index=False))"
   ]
  }
 ],
 "metadata": {
  "kernelspec": {
   "display_name": "nlp_env2",
   "language": "python",
   "name": "python3"
  },
  "language_info": {
   "codemirror_mode": {
    "name": "ipython",
    "version": 3
   },
   "file_extension": ".py",
   "mimetype": "text/x-python",
   "name": "python",
   "nbconvert_exporter": "python",
   "pygments_lexer": "ipython3",
   "version": "3.11.13"
  }
 },
 "nbformat": 4,
 "nbformat_minor": 5
}
